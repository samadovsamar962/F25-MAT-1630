{
  "nbformat": 4,
  "nbformat_minor": 0,
  "metadata": {
    "colab": {
      "provenance": [],
      "authorship_tag": "ABX9TyO0pXS93oDLhIRaub108GkL",
      "include_colab_link": true
    },
    "kernelspec": {
      "name": "python3",
      "display_name": "Python 3"
    },
    "language_info": {
      "name": "python"
    }
  },
  "cells": [
    {
      "cell_type": "markdown",
      "metadata": {
        "id": "view-in-github",
        "colab_type": "text"
      },
      "source": [
        "<a href=\"https://colab.research.google.com/github/samadovsamar962/F25-MAT-1630/blob/main/part3.ipynb\" target=\"_parent\"><img src=\"https://colab.research.google.com/assets/colab-badge.svg\" alt=\"Open In Colab\"/></a>"
      ]
    },
    {
      "cell_type": "code",
      "execution_count": null,
      "metadata": {
        "colab": {
          "base_uri": "https://localhost:8080/"
        },
        "id": "VN_seqRsc0-Z",
        "outputId": "40bf392c-e2b6-41ea-e0a6-8167f27620ed"
      },
      "outputs": [
        {
          "output_type": "stream",
          "name": "stdout",
          "text": [
            "Checking each number:\n",
            "3 is odd\n",
            "7 is odd\n",
            "2 is even\n",
            "9 is odd\n",
            "12 is even\n",
            "5 is odd\n",
            "10 is even\n",
            "1 is odd\n",
            "\n",
            "Summary:\n",
            "There are 3 even numbers and 5 odd numbers.\n",
            "List of even numbers: [2, 12, 10]\n"
          ]
        }
      ],
      "source": [
        "# data list\n",
        "data = [3, 7, 2, 9, 12, 5, 10, 1]\n",
        "\n",
        "even_count = 0\n",
        "odd_count = 0\n",
        "even_list = []\n",
        "\n",
        "print(\"Checking each number:\")\n",
        "for num in data:\n",
        "    if num % 2 == 0:\n",
        "        print(f\"{num} is even\")\n",
        "        even_count += 1\n",
        "        even_list.append(num)\n",
        "    else:\n",
        "        print(f\"{num} is odd\")\n",
        "        odd_count += 1\n",
        "\n",
        "print(\"\\nSummary:\")\n",
        "print(f\"There are {even_count} even numbers and {odd_count} odd numbers.\")\n",
        "print(\"List of even numbers:\", even_list)"
      ]
    }
  ]
}